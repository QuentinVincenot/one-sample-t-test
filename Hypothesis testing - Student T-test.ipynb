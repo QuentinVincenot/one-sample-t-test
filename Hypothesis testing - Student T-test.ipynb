{
  "nbformat": 4,
  "nbformat_minor": 0,
  "metadata": {
    "colab": {
      "provenance": [],
      "toc_visible": true
    },
    "kernelspec": {
      "name": "python3",
      "display_name": "Python 3"
    },
    "language_info": {
      "name": "python"
    }
  },
  "cells": [
    {
      "cell_type": "markdown",
      "source": [
        "# 1-sample Student T-test\n",
        "\n",
        "This notebook serves as a tutorial to perform a 1-sample Student T-test. One of the goal of this statistical test is usually to *check whether a considered sample comes from a population with a specific mean*, under some conditions and acceptable risks.\n",
        "\n",
        "Thus, we will unroll in this tutorial the idea and the methodology behind the **1-sample Student T-test** to perform this experiment on a concrete use case."
      ],
      "metadata": {
        "id": "xNm8RUEukAYz"
      }
    },
    {
      "cell_type": "markdown",
      "source": [
        "## A/ Sampling from the population\n",
        "\n",
        "To begin the experiment, we need to first collect a data sample to work with. This is done by drawing a set of values from a random normal distribution generated with *NumPy*. We draw `30` values from the distribution that will serve as our feature vector on which we will perform the Student T-test."
      ],
      "metadata": {
        "id": "uNbClrKc0R_f"
      }
    },
    {
      "cell_type": "code",
      "execution_count": null,
      "metadata": {
        "colab": {
          "base_uri": "https://localhost:8080/"
        },
        "id": "SRgBfR5jZ658",
        "outputId": "263a3d5c-a534-460b-b9bc-ce968bd4a930"
      },
      "outputs": [
        {
          "output_type": "stream",
          "name": "stdout",
          "text": [
            "Length of the feature vector : 30\n",
            "Values in the feature vector :\n",
            " [51.79438092 50.68340682 48.72487508 47.34825685 48.30993278 51.24081304\n",
            " 52.46233169 53.11174444 50.75017647 48.47522169 52.12671075 47.96696707\n",
            " 51.14640843 50.83482997 46.26191657 46.72981263 47.22851258 51.93307112\n",
            " 50.4961341  55.34999344 47.41409592 49.10834785 50.79910072 55.53954241\n",
            " 50.32527817 50.09736851 45.37047412 55.10463159 47.57017236 48.62288483]\n"
          ]
        }
      ],
      "source": [
        "# Import NumPy library to generate random numbers and vectors\n",
        "import numpy as np\n",
        "\n",
        "# Generate the feature vector values from a random normal distribution\n",
        "feature_vector = np.random.normal(loc=50, scale=3, size=(30,))\n",
        "print('Length of the feature vector :', len(feature_vector))\n",
        "print('Values in the feature vector :\\n', feature_vector)"
      ]
    },
    {
      "cell_type": "markdown",
      "source": [
        "Once our feature vector (sampled values) has been generated, we can quickly visualize its values and its distribution with a histogram. We can see here, even though we do not have a lot of values, that we are not very far from having a normal distribution."
      ],
      "metadata": {
        "id": "-v49Cibw0gWj"
      }
    },
    {
      "cell_type": "code",
      "source": [
        "# Import Matplotlib library to visualize data\n",
        "import matplotlib.pyplot as plt\n",
        "\n",
        "# Visualize the histogram of the feature vector values distribution\n",
        "plt.hist(feature_vector, bins=8, ec='k', lw=1) ; plt.show()"
      ],
      "metadata": {
        "colab": {
          "base_uri": "https://localhost:8080/",
          "height": 265
        },
        "id": "TIfW9LRKqRSM",
        "outputId": "9972ef7f-713b-4655-8f4a-b0ff1031635f"
      },
      "execution_count": null,
      "outputs": [
        {
          "output_type": "display_data",
          "data": {
            "text/plain": [
              "<Figure size 432x288 with 1 Axes>"
            ],
            "image/png": "[encoded data removed]"
          },
          "metadata": {
            "needs_background": "light"
          }
        }
      ]
    },
    {
      "cell_type": "markdown",
      "source": [
        "## B/ Checking test conditions\n",
        "\n",
        "Before we can run the Student T-test, we need to check whether our sampled feature vector respect a few conditions. The necessary conditions to check regarding our sample are the following ones :\n",
        "1. Data is *continuous*.\n",
        "2. Data has been *randomly sampled* from a population.\n",
        "3. Data is approximately following a *normal distribution*.\n",
        "4. Data *variability is similar* among samples groups.\n",
        "\n",
        "As we have seen from the previous histogram and data sampled values, data is continuous and approximately normally distributed. It has been sampled by a random selection process among the population and its variance is supposed to be similar among sampled groups.\n",
        "\n",
        "We know, or we can compute, the mean and the standard deviation of the sample, but we do not know the mean and the standard deviation of the population. The mean of the sample can act as an estimate of the mean of the population, but the goal is to check this assumption."
      ],
      "metadata": {
        "id": "_A5KBduZ4oSO"
      }
    },
    {
      "cell_type": "markdown",
      "source": [
        "## C/ Statements of the statistical test\n",
        "\n",
        "We want to check whether the sampled feature vector comes from a population that has a mean corresponding to our expectations. Therefore, we perform a **1-sample 2-tailed Student T-test** on the sample, to verify whether our assumption is right.\n",
        "\n",
        "Thus, we set up the set of following hypothesis (null and alternative) :\n",
        "- **H0** (null hypothesis)\n",
        "  - The feature vector comes from a population with a mean of 50, the range of sampled values being in [1;100].\n",
        "- **H1** (alternative hypothesis)\n",
        "  - The feature vector does not come from a population with a mean of 50.\n",
        "\n",
        "We also choose a significance threshold to 𝛂=**0.05**, meaning we accept a 5% risk we draw wrong conclusions about the means of the sample and the population."
      ],
      "metadata": {
        "id": "8IaDaowT7DWq"
      }
    },
    {
      "cell_type": "code",
      "source": [
        "# We define the characteristics of our test : here the expected population mean and the significance threshold\n",
        "expected_population_mean = 50\n",
        "significance_threshold = 0.05"
      ],
      "metadata": {
        "id": "1fdqW-Mro3pl"
      },
      "execution_count": null,
      "outputs": []
    },
    {
      "cell_type": "markdown",
      "source": [
        "## D/ Performing the statistical test\n",
        "\n",
        "After stating the conditions and the hypothesis on the statistical test, we can compute the relevant information to perform the 1-sample Student T-test. This test is based on 3 distinct steps :\n",
        "\n",
        "- The first step is to compute the **calculated T-score** characteristic thanks to our sample information.\n",
        "- The second step is to retrieve the **critical T-score** values that define the rejection zones of the statistical test for our sample.\n",
        "- Finally, with both scores, we can **assess whether we need to reject the null hypothesis or not** based on our assumptions."
      ],
      "metadata": {
        "id": "6A_ITSrHnHOD"
      }
    },
    {
      "cell_type": "code",
      "source": [
        "# Import SciPy Stats to retrieve interesting values from the T-distribution\n",
        "import scipy.stats\n",
        "\n",
        "# We can prepare relevant values from the sample, namely its mean and standard deviation\n",
        "sample_mean = np.mean(feature_vector)\n",
        "sample_std = np.std(feature_vector)\n",
        "\n",
        "# Given we perform a 1-sample Student T-test, we have \"n-1\" degrees of freedom\n",
        "number_of_sample_values = len(feature_vector)\n",
        "degrees_of_freedom = number_of_sample_values - 1\n",
        "\n",
        "# We can compute the calculated T-score with the following formula\n",
        "calculated_t_score = (sample_mean - expected_population_mean) / (sample_std / np.sqrt(number_of_sample_values))\n",
        "print('Calculated T-score :', calculated_t_score)\n",
        "\n",
        "# We can also retrieve automatically the critical T-score\n",
        "critical_t_score = scipy.stats.t.ppf(q=1.0-significance_threshold/2, df=degrees_of_freedom)\n",
        "print(f'Critical T-score (2-tailed, df={degrees_of_freedom}, at {significance_threshold}%) :', critical_t_score)\n",
        "\n",
        "# Now calculated and critical T-scores has been computed, we can perform the T-test\n",
        "t_test_result = 'Passed' if (np.abs(calculated_t_score) < critical_t_score) else 'Failed'\n",
        "print('\\nResult of the 1-sample 2-tailed Student T-test :', t_test_result)"
      ],
      "metadata": {
        "colab": {
          "base_uri": "https://localhost:8080/"
        },
        "id": "QFr7f-SPaskE",
        "outputId": "9360425c-4830-4831-dd92-082637cb29a4"
      },
      "execution_count": null,
      "outputs": [
        {
          "output_type": "stream",
          "name": "stdout",
          "text": [
            "Calculated T-score : 0.20449671635155586\n",
            "Critical T-score (2-tailed, df=29, at 0.05%) : 2.045229642132703\n",
            "\n",
            "Result of the 1-sample 2-tailed Student T-test : Passed\n"
          ]
        }
      ]
    },
    {
      "cell_type": "markdown",
      "source": [
        "Our calculated T-score is below the critical T-score for our sample, regarding the parameters of our test (degrees of freedom and significance threshold). This is a first step helping us **not to reject the null hypothesis**, having a lack of statistical evidence against the null hypothesis.\n",
        "\n",
        "We can confirm even more this conclusion by computing what is called the **p-value**. This value corresponds to the *chances we get a more extreme result than the one we obtained, under the verified null hypothesis case*.\n",
        "\n",
        "This p-value can be computed or deduced thanks to the calculated T-score and the degrees of freedom of our sample. This p-value also corresponds to the area under the T-distribution curve past the calculated T-score (on both sides of the absolute value for the case of a 2-tailed test)."
      ],
      "metadata": {
        "id": "f63iMYTvS_e1"
      }
    },
    {
      "cell_type": "code",
      "source": [
        "# Finally, we can compute the p-value and state whether our deductions are statistically significant\n",
        "p_value = scipy.stats.t.sf(abs(calculated_t_score), df=degrees_of_freedom) * 2\n",
        "print(f'p-value : {p_value}')\n",
        "\n",
        "# Given we did not reject the null hypothesis based on T-scores, our deduction is statistically significant if the p-value is above the significance threshold\n",
        "t_test_significance = 'Significant' if p_value > significance_threshold else 'Non significant'\n",
        "print(f'\\nStatistical significance (alpha={significance_threshold}, p-value={p_value}) : {t_test_significance}')"
      ],
      "metadata": {
        "colab": {
          "base_uri": "https://localhost:8080/"
        },
        "id": "_rvI6si8TE7x",
        "outputId": "8309a036-8514-4266-9e1e-7db556e3a369"
      },
      "execution_count": null,
      "outputs": [
        {
          "output_type": "stream",
          "name": "stdout",
          "text": [
            "p-value : 0.839393819742999\n",
            "\n",
            "Statistical significance (alpha=0.05, p-value=0.839393819742999) : Significant\n"
          ]
        }
      ]
    },
    {
      "cell_type": "markdown",
      "source": [
        "## E/ Statistical test results\n",
        "\n",
        "Now we have computed the calculated T-score, the critical T-score and p-value for our significance level and our population sample, we should be available to **visualize the results of the test** in the T-distribution plot. Let's visualize it with sampled values from the T-distribution, and our statistical test data, to assess the test result and confirm our decision about rejecting the null hypothesis or not."
      ],
      "metadata": {
        "id": "gOCMEtEcpOF8"
      }
    },
    {
      "cell_type": "code",
      "source": [
        "# Simulate the (x,y) values for the t-distribution\n",
        "t_distribution_x_values = np.linspace(-5, 5, 10000)\n",
        "t_distribution_y_values = scipy.stats.t.pdf(t_distribution_x_values, df=29)\n",
        "\n",
        "# Display the t-distribution\n",
        "_, ax = plt.subplots(figsize=(12, 6))\n",
        "\n",
        "plt.plot(t_distribution_x_values, t_distribution_y_values, color='blue', lw=1, label='T-distribution (Probability Density Function)')\n",
        "\n",
        "# Plot the calculated t-scores\n",
        "plt.scatter([-calculated_t_score, calculated_t_score], scipy.stats.t.pdf([-calculated_t_score, calculated_t_score], df=29), marker='x', s=100, color='green')\n",
        "plt.scatter([-calculated_t_score, calculated_t_score], [0, 0], color='green')\n",
        "plt.plot([-calculated_t_score, -calculated_t_score], [0, scipy.stats.t.pdf(-calculated_t_score, df=29)], color='green', linestyle='--', linewidth=1.5, label='Sample T-score')\n",
        "plt.plot([calculated_t_score, calculated_t_score], [0, scipy.stats.t.pdf(calculated_t_score, df=29)], color='green', linestyle='--', linewidth=1.5)\n",
        "t_score_color = 'green' if t_test_result == 'Passed' else 'red'\n",
        "plt.text(x=np.abs(calculated_t_score), y=-0.02, va='center', ha='center', color=t_score_color, s=str(np.abs(np.round(calculated_t_score, 3))))\n",
        "\n",
        "# Plot the critical t-scores\n",
        "plt.plot([-critical_t_score, -critical_t_score], [0, scipy.stats.t.pdf(-critical_t_score, df=29)], color='red', linestyle='--', linewidth=1, label='Critical T-score')\n",
        "plt.plot([critical_t_score, critical_t_score], [0, scipy.stats.t.pdf(critical_t_score, df=29)], color='red', linestyle='--', linewidth=1)\n",
        "plt.plot([-4.5, min(-critical_t_score, critical_t_score)], [0, 0], color='red', linestyle='--', linewidth=1)\n",
        "plt.plot([max(-critical_t_score, critical_t_score), 4.5], [0, 0], color='red', linestyle='--', linewidth=1)\n",
        "plt.scatter([-critical_t_score, critical_t_score], scipy.stats.t.pdf([-critical_t_score, critical_t_score], df=29), marker='x', s=100, color='red')\n",
        "plt.text(x=-critical_t_score, y=scipy.stats.t.pdf(-critical_t_score, df=29)+0.02,\n",
        "         va='center', ha='right', color='red', s=str(np.abs(np.round(critical_t_score, 3))))\n",
        "plt.text(x=critical_t_score, y=scipy.stats.t.pdf(critical_t_score, df=29)+0.02,\n",
        "         va='center', ha='left', color='red', s=str(np.abs(np.round(-critical_t_score, 3))))\n",
        "\n",
        "# Write a title box for the significance level\n",
        "ax.text(3.4, 0.325, r'$\\alpha=%.2f$' % (significance_threshold,), fontsize=14, ha='center', va='center',\n",
        "        bbox=dict(boxstyle='round', facecolor='wheat', alpha=0.5))\n",
        "\n",
        "# Constrain and configure the t-distribution plot\n",
        "plt.xlabel('T-score') ; plt.xlim([-4.5, 4.5]) ; plt.ylim([-0.05, 0.45]) ; plt.legend() ; plt.show()"
      ],
      "metadata": {
        "colab": {
          "base_uri": "https://localhost:8080/",
          "height": 388
        },
        "id": "0n7Cxi2rUZvt",
        "outputId": "a8bac030-23e5-4931-8996-66e7dcb59938"
      },
      "execution_count": null,
      "outputs": [
        {
          "output_type": "display_data",
          "data": {
            "text/plain": [
              "<Figure size 864x432 with 1 Axes>"
            ],
            "image/png": "[encoded data removed]"
          },
          "metadata": {
            "needs_background": "light"
          }
        }
      ]
    },
    {
      "cell_type": "markdown",
      "source": [
        "With all these information at hand (calculated T-score **0.204** below critical T-score **2.045**, and p-value above the significance level 𝛂=**0.05**), we can definitely state with a high degree of confidence that **there is no statistically significant difference** between the mean of our sample we observed and the mean of the population this sample has been drawn from.\n",
        "\n",
        "In other words, **we cannot reject the null hypothesis** because there are high chances our sample came from a population with a mean of 50, which was our expected result beforehand."
      ],
      "metadata": {
        "id": "j-6l2H5QW1VJ"
      }
    },
    {
      "cell_type": "code",
      "source": [],
      "metadata": {
        "id": "DLuZk_fnba_9"
      },
      "execution_count": null,
      "outputs": []
    }
  ]
}